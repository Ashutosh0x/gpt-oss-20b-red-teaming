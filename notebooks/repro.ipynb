{
  "cells": [
    {
      "cell_type": "code",
      "execution_count": null,
      "metadata": {
        "vscode": {
          "languageId": "plaintext"
        }
      },
      "outputs": [],
      "source": [
        "# Minimal Reproduction Notebook\n",
        "Run baseline probes, then convert a record to a findings JSON and validate against the schema.\n"
      ]
    },
    {
      "cell_type": "code",
      "execution_count": null,
      "metadata": {},
      "outputs": [],
      "source": [
        "%pip install -r ../requirements.txt\n",
        "%pip install -U vllm\n"
      ]
    },
    {
      "cell_type": "code",
      "execution_count": null,
      "metadata": {},
      "outputs": [],
      "source": [
        "import os, subprocess, sys, time\n",
        "os.environ['MODEL_NAME'] = os.environ.get('MODEL_NAME', 'gpt-oss-20b')\n",
        "# Launch local vLLM OpenAI server serving gpt-oss-20b (requires GPU)\n",
        "cmd = [sys.executable, '-m', 'vllm.entrypoints.openai.api_server', '--model', os.environ['MODEL_NAME'], '--host', '127.0.0.1', '--port', '8000']\n",
        "proc = subprocess.Popen(cmd, stdout=subprocess.PIPE, stderr=subprocess.STDOUT, text=True)\n",
        "# Wait briefly for server startup\n",
        "time.sleep(8)\n",
        "os.environ['OPENAI_BASE_URL'] = 'http://127.0.0.1:8000/v1'\n",
        "os.environ['OPENAI_API_KEY'] = 'local-sk'  # placeholder for local server\n",
        "!python ../scripts/run_probes.py --prompts ../data/prompts/baseline.yaml --out ../outputs/run-baseline.jsonl --temperature 0.7 --max-tokens 256\n",
        "proc.terminate()\n"
      ]
    },
    {
      "cell_type": "code",
      "execution_count": null,
      "metadata": {},
      "outputs": [],
      "source": [
        "!python ../scripts/make_finding.py --title 'Sample Issue' --topic 'reward hacking' --run ../outputs/run-baseline.jsonl --index 0 --out ../findings/findings.1.json\n",
        "!python ../scripts/validate_finding.py ../findings/findings.1.json ../findings.schema\n"
      ]
    }
  ],
  "metadata": {
    "language_info": {
      "name": "python"
    }
  },
  "nbformat": 4,
  "nbformat_minor": 2
}
