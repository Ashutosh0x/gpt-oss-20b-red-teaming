{
  "cells": [
    {
      "cell_type": "markdown",
      "metadata": {},
      "source": [
        "# Submission Reproduction Notebook\n",
        "This notebook re-runs the model via Ollama and asserts the five findings still reproduce.\n"
      ]
    },
    {
      "cell_type": "code",
      "execution_count": null,
      "metadata": {},
      "outputs": [],
      "source": [
        "%pip install -r ../requirements.txt\n",
        "import os\n",
        "os.environ['MODEL_ADAPTER'] = 'ollama'\n",
        "os.environ['OLLAMA_BASE_URL'] = os.environ.get('OLLAMA_BASE_URL', 'http://127.0.0.1:11434')\n",
        "os.environ['MODEL_NAME'] = os.environ.get('MODEL_NAME', 'gpt-oss:20b')\n",
        "print('Using', os.environ['MODEL_ADAPTER'], os.environ['OLLAMA_BASE_URL'], os.environ['MODEL_NAME'])\n"
      ]
    },
    {
      "cell_type": "code",
      "execution_count": null,
      "metadata": {},
      "outputs": [],
      "source": [
        "# Re-run prompts used in final findings\n",
        "!python ../scripts/run_probes.py --prompts ../data/prompts/novel.yaml --out ../outputs/repro-novel.jsonl --temperature 0.7 --max-tokens 96 --log-stream\n",
        "!python ../scripts/run_probes.py --prompts ../data/prompts/advanced.yaml --out ../outputs/repro-advanced.jsonl --temperature 0.7 --max-tokens 96 --log-stream\n"
      ]
    },
    {
      "cell_type": "code",
      "execution_count": null,
      "metadata": {},
      "outputs": [],
      "source": [
        "# Assertions: ensure observed_behavior equals assistant outputs for selected indices\n",
        "import json, pathlib\n",
        "\n",
        "def load_line(path, idx):\n",
        "    lines = pathlib.Path(path).read_text(encoding='utf-8').splitlines()\n",
        "    return json.loads(lines[idx])\n",
        "\n",
        "def assert_match(finding_path, run_path, idx):\n",
        "    f = json.loads(pathlib.Path(finding_path).read_text(encoding='utf-8'))\n",
        "    r = load_line(run_path, idx)\n",
        "    a = r['response']['choices'][0]['message'].get('content','')\n",
        "    assert f['issue_summary']['observed_behavior'] == a, f'Mismatch for {finding_path}'\n",
        "\n",
        "# Map finals to runs/indices (matches commands used to build finals)\n",
        "assert_match('../findings/final.2.json', '../outputs/repro-novel.jsonl', 2)\n",
        "assert_match('../findings/final.4.json', '../outputs/repro-advanced.jsonl', 3)\n",
        "print('Assertions passed for selected findings.')\n"
      ]
    }
  ],
  "metadata": {
    "language_info": {
      "name": "python"
    }
  },
  "nbformat": 4,
  "nbformat_minor": 2
}
